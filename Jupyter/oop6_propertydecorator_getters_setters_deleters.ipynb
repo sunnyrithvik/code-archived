{
 "cells": [
  {
   "cell_type": "code",
   "execution_count": 1,
   "id": "41f208c2-957e-4cb5-a8a8-1087accd94ce",
   "metadata": {},
   "outputs": [],
   "source": [
    "class Employee:\n",
    "    \n",
    "    def __init__(self, first, last):\n",
    "        self.first = first\n",
    "        self.last = last\n",
    "        # self.email = first + '.' + last + '@company.com'\n",
    "        \n",
    "    @property    \n",
    "    def fullname(self):\n",
    "        return f'{self.first} {self.last}'\n",
    "    \n",
    "    # Property decorator allows us to define a method\n",
    "    # But we can access it like attribute\n",
    "    \n",
    "    @property\n",
    "    def email(self):\n",
    "        return f'{self.first}.{self.last}@email.com'\n",
    "    \n",
    "    # Setter\n",
    "    @fullname.setter\n",
    "    def fullname(self, name):\n",
    "        first, last = name.split(' ')\n",
    "        self.first = first\n",
    "        self.last = last\n",
    "    \n",
    "    # Deleter\n",
    "    @fullname.deleter\n",
    "    def fullname(self):\n",
    "        print('Delete Name!')\n",
    "        self.first = None\n",
    "        self.last = None"
   ]
  },
  {
   "cell_type": "code",
   "execution_count": 2,
   "id": "ba24321c-4ff8-4f07-9ea1-5360cab86390",
   "metadata": {},
   "outputs": [],
   "source": [
    "emp_1 = Employee('John','Smith')"
   ]
  },
  {
   "cell_type": "code",
   "execution_count": 3,
   "id": "14650365-db55-4fb4-b962-4298299c70a9",
   "metadata": {},
   "outputs": [],
   "source": [
    "emp_1.first = 'Jim'"
   ]
  },
  {
   "cell_type": "code",
   "execution_count": 4,
   "id": "b6b6ab77-6fce-410d-bc18-dd4ebc354a91",
   "metadata": {},
   "outputs": [
    {
     "name": "stdout",
     "output_type": "stream",
     "text": [
      "Jim\n",
      "Jim.Smith@email.com\n",
      "Jim Smith\n"
     ]
    }
   ],
   "source": [
    "print(emp_1.first)\n",
    "print(emp_1.email)\n",
    "print(emp_1.fullname)"
   ]
  },
  {
   "cell_type": "code",
   "execution_count": 5,
   "id": "8f35a6e1-b84e-4a7a-9d1b-f88a10ec1897",
   "metadata": {},
   "outputs": [],
   "source": [
    "# Instead of defining email and using emp_1.email()\n",
    "# We use property decorator and does not change emp_1.email"
   ]
  },
  {
   "cell_type": "code",
   "execution_count": 6,
   "id": "871ef7f4-7399-4e15-8423-e0c744bb418e",
   "metadata": {},
   "outputs": [],
   "source": [
    "emp_1.fullname = 'Corey Schafer'"
   ]
  },
  {
   "cell_type": "code",
   "execution_count": 7,
   "id": "d853ebf6-17ba-4a18-b520-3679d327e85f",
   "metadata": {},
   "outputs": [
    {
     "name": "stdout",
     "output_type": "stream",
     "text": [
      "Corey\n",
      "Corey.Schafer@email.com\n",
      "Corey Schafer\n"
     ]
    }
   ],
   "source": [
    "print(emp_1.first)\n",
    "print(emp_1.email)\n",
    "print(emp_1.fullname)"
   ]
  },
  {
   "cell_type": "code",
   "execution_count": 8,
   "id": "b0149da5-d1ed-4a54-b20d-5adac5b03e86",
   "metadata": {},
   "outputs": [
    {
     "name": "stdout",
     "output_type": "stream",
     "text": [
      "Delete Name!\n"
     ]
    }
   ],
   "source": [
    "del emp_1.fullname"
   ]
  },
  {
   "cell_type": "code",
   "execution_count": null,
   "id": "92b78752-10d7-4ef5-9f5a-6dc69c9785dc",
   "metadata": {},
   "outputs": [],
   "source": []
  }
 ],
 "metadata": {
  "kernelspec": {
   "display_name": "Python 3",
   "language": "python",
   "name": "python3"
  },
  "language_info": {
   "codemirror_mode": {
    "name": "ipython",
    "version": 3
   },
   "file_extension": ".py",
   "mimetype": "text/x-python",
   "name": "python",
   "nbconvert_exporter": "python",
   "pygments_lexer": "ipython3",
   "version": "3.9.5"
  }
 },
 "nbformat": 4,
 "nbformat_minor": 5
}
