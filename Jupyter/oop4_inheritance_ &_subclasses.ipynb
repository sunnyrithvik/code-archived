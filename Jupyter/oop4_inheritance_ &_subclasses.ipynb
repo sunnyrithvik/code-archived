{
 "cells": [
  {
   "cell_type": "code",
   "execution_count": 1,
   "id": "6d0a1905-f8d5-4ead-9825-22a09bb2c61b",
   "metadata": {},
   "outputs": [],
   "source": [
    "class Employee:\n",
    "    \n",
    "    raise_amount = 1.04\n",
    "    \n",
    "    def __init__(self, first, last, pay):\n",
    "        self.first = first\n",
    "        self.last = last\n",
    "        self.pay = pay\n",
    "        self.email = first + '.' + last + '@company.com'\n",
    "        \n",
    "    def fullname(self):\n",
    "        return f'{self.first} {self.last}'\n",
    "    \n",
    "    def apply_raise(self):\n",
    "        self.pay = int(self.pay * self.raise_amount)\n",
    "        "
   ]
  },
  {
   "cell_type": "code",
   "execution_count": 2,
   "id": "28fd4f7d-8490-4453-a374-71db5cd9779e",
   "metadata": {},
   "outputs": [],
   "source": [
    "class Developer(Employee):\n",
    "    raise_amount = 1.10\n",
    "    \n",
    "    def __init__(self, first, last, pay, prog_lang):\n",
    "        \n",
    "            super().__init__(first, last, pay)\n",
    "            \n",
    "            #Employee.__init__(self, first, last, pay)\n",
    "            \n",
    "            self.prog_lang = prog_lang"
   ]
  },
  {
   "cell_type": "code",
   "execution_count": 3,
   "id": "923bb1d2-4809-41b3-bc58-087de03d2fd9",
   "metadata": {},
   "outputs": [],
   "source": [
    "class Manager(Employee):\n",
    "    \n",
    "    def __init__(self, first, last, pay, employees = None):\n",
    "        super().__init__(first, last, pay)\n",
    "        if employees is None:\n",
    "            self.employees = []\n",
    "        else:\n",
    "            self.employees = employees\n",
    "            \n",
    "    def add_emp(self, emp):\n",
    "        if emp not in self.employees:\n",
    "            self.employees.append(emp)\n",
    "            \n",
    "    def remove_emp(self, emp):\n",
    "        if emp in self.employees:\n",
    "            self.employees.remove(emp)\n",
    "            \n",
    "    def print_emp(self):\n",
    "        for emp in self.employees:\n",
    "            print('-->',emp.fullname())"
   ]
  },
  {
   "cell_type": "code",
   "execution_count": 4,
   "id": "ad5692e8-e071-4397-af29-d85ae6d985b1",
   "metadata": {},
   "outputs": [],
   "source": [
    "dev_1 = Employee('corey','schafer',50000)\n",
    "dev_2 = Employee('Test','user',60000)"
   ]
  },
  {
   "cell_type": "code",
   "execution_count": 5,
   "id": "68875fbb-5c1b-4c4f-bc4f-8f2e54a07b32",
   "metadata": {},
   "outputs": [
    {
     "name": "stdout",
     "output_type": "stream",
     "text": [
      "corey.schafer@company.com\n",
      "Test.user@company.com\n"
     ]
    }
   ],
   "source": [
    "print(dev_1.email)\n",
    "print(dev_2.email)"
   ]
  },
  {
   "cell_type": "code",
   "execution_count": 6,
   "id": "f85f809f-755f-4586-8a24-e48515340385",
   "metadata": {},
   "outputs": [],
   "source": [
    "dev1 = Developer('corey','schafer',50000,'')\n",
    "dev2 = Developer('Test','user',60000,'')"
   ]
  },
  {
   "cell_type": "code",
   "execution_count": 7,
   "id": "6013e006-3110-49ca-b695-ffd494a72afc",
   "metadata": {},
   "outputs": [
    {
     "name": "stdout",
     "output_type": "stream",
     "text": [
      "corey.schafer@company.com\n",
      "Test.user@company.com\n"
     ]
    }
   ],
   "source": [
    "print(dev1.email)\n",
    "print(dev2.email)"
   ]
  },
  {
   "cell_type": "code",
   "execution_count": 8,
   "id": "d4315074-b5f9-4bcc-a719-58f8be4ac70f",
   "metadata": {},
   "outputs": [
    {
     "name": "stdout",
     "output_type": "stream",
     "text": [
      "Help on class Developer in module __main__:\n",
      "\n",
      "class Developer(Employee)\n",
      " |  Developer(first, last, pay, prog_lang)\n",
      " |  \n",
      " |  Method resolution order:\n",
      " |      Developer\n",
      " |      Employee\n",
      " |      builtins.object\n",
      " |  \n",
      " |  Methods defined here:\n",
      " |  \n",
      " |  __init__(self, first, last, pay, prog_lang)\n",
      " |      Initialize self.  See help(type(self)) for accurate signature.\n",
      " |  \n",
      " |  ----------------------------------------------------------------------\n",
      " |  Data and other attributes defined here:\n",
      " |  \n",
      " |  raise_amount = 1.1\n",
      " |  \n",
      " |  ----------------------------------------------------------------------\n",
      " |  Methods inherited from Employee:\n",
      " |  \n",
      " |  apply_raise(self)\n",
      " |  \n",
      " |  fullname(self)\n",
      " |  \n",
      " |  ----------------------------------------------------------------------\n",
      " |  Data descriptors inherited from Employee:\n",
      " |  \n",
      " |  __dict__\n",
      " |      dictionary for instance variables (if defined)\n",
      " |  \n",
      " |  __weakref__\n",
      " |      list of weak references to the object (if defined)\n",
      "\n",
      "None\n"
     ]
    }
   ],
   "source": [
    "print(help(Developer))"
   ]
  },
  {
   "cell_type": "code",
   "execution_count": 9,
   "id": "e3a45f48-79b8-4606-b6b6-a92efadf11a9",
   "metadata": {},
   "outputs": [
    {
     "name": "stdout",
     "output_type": "stream",
     "text": [
      "50000\n",
      "55000\n"
     ]
    }
   ],
   "source": [
    "print(dev1.pay)\n",
    "dev1.apply_raise()\n",
    "print(dev1.pay)"
   ]
  },
  {
   "cell_type": "code",
   "execution_count": 10,
   "id": "2f523322-525e-460a-87e1-ae0610e4a76f",
   "metadata": {},
   "outputs": [],
   "source": [
    "dev1 = Employee('corey','schafer',50000,)\n",
    "dev2 = Developer('Test','user',60000,'')"
   ]
  },
  {
   "cell_type": "code",
   "execution_count": 11,
   "id": "66361654-6c2f-4a68-8a22-14f32e86842f",
   "metadata": {},
   "outputs": [
    {
     "name": "stdout",
     "output_type": "stream",
     "text": [
      "50000\n",
      "52000\n"
     ]
    }
   ],
   "source": [
    "print(dev1.pay)\n",
    "dev1.apply_raise()\n",
    "print(dev1.pay)"
   ]
  },
  {
   "cell_type": "code",
   "execution_count": 12,
   "id": "1524074d-bc2e-4863-a082-7beed34cb9b6",
   "metadata": {},
   "outputs": [],
   "source": [
    "dev1 = Developer('corey','schafer',50000, 'Python')\n",
    "dev2 = Developer('Test','user',60000, 'Java')"
   ]
  },
  {
   "cell_type": "code",
   "execution_count": 13,
   "id": "979eee80-e8fd-48c0-9cf2-3209d4a3adf3",
   "metadata": {},
   "outputs": [
    {
     "name": "stdout",
     "output_type": "stream",
     "text": [
      "corey.schafer@company.com\n",
      "Python\n"
     ]
    }
   ],
   "source": [
    "print(dev1.email)\n",
    "print(dev1.prog_lang)"
   ]
  },
  {
   "cell_type": "code",
   "execution_count": 14,
   "id": "94724c05-c57e-4824-b9f0-fde5f1ab013f",
   "metadata": {},
   "outputs": [
    {
     "name": "stdout",
     "output_type": "stream",
     "text": [
      "sue.smith@company.com\n"
     ]
    }
   ],
   "source": [
    "mgr_1 = Manager('sue', 'smith', 90000, [dev1])\n",
    "\n",
    "print(mgr_1.email)"
   ]
  },
  {
   "cell_type": "code",
   "execution_count": 15,
   "id": "ccf96909-405c-4aad-9f9e-7b8ef783dd6f",
   "metadata": {},
   "outputs": [],
   "source": [
    "mgr_1.add_emp(dev2)"
   ]
  },
  {
   "cell_type": "code",
   "execution_count": 16,
   "id": "69f64d0e-ef11-4603-98d7-c757d28fe522",
   "metadata": {},
   "outputs": [
    {
     "name": "stdout",
     "output_type": "stream",
     "text": [
      "--> corey schafer\n",
      "--> Test user\n"
     ]
    }
   ],
   "source": [
    "mgr_1.print_emp()"
   ]
  },
  {
   "cell_type": "code",
   "execution_count": 17,
   "id": "649995f6-6b8e-4f8a-b892-14a1ab3539a5",
   "metadata": {},
   "outputs": [],
   "source": [
    "mgr_1.remove_emp(dev1)"
   ]
  },
  {
   "cell_type": "code",
   "execution_count": 18,
   "id": "3b10023a-4e6f-4c4b-9c66-dce9e663a6d0",
   "metadata": {},
   "outputs": [
    {
     "name": "stdout",
     "output_type": "stream",
     "text": [
      "--> Test user\n"
     ]
    }
   ],
   "source": [
    "mgr_1.print_emp()"
   ]
  },
  {
   "cell_type": "code",
   "execution_count": 19,
   "id": "b066003a-2b5e-4fc5-99d0-cd46d3a980a7",
   "metadata": {},
   "outputs": [
    {
     "name": "stdout",
     "output_type": "stream",
     "text": [
      "True\n"
     ]
    }
   ],
   "source": [
    "print(isinstance(mgr_1, Manager))"
   ]
  },
  {
   "cell_type": "code",
   "execution_count": 20,
   "id": "254cc6b2-73f8-48ef-803d-0bd2326c07a3",
   "metadata": {},
   "outputs": [
    {
     "name": "stdout",
     "output_type": "stream",
     "text": [
      "True\n"
     ]
    }
   ],
   "source": [
    "print(isinstance(mgr_1, Employee))"
   ]
  },
  {
   "cell_type": "code",
   "execution_count": 21,
   "id": "70bd56df-2b35-4a94-8427-b3a03f80a876",
   "metadata": {},
   "outputs": [
    {
     "name": "stdout",
     "output_type": "stream",
     "text": [
      "False\n"
     ]
    }
   ],
   "source": [
    "print(isinstance(mgr_1, Developer))"
   ]
  },
  {
   "cell_type": "code",
   "execution_count": 22,
   "id": "caed3aa8-de8d-4b05-b1d6-940f6d87549b",
   "metadata": {},
   "outputs": [
    {
     "name": "stdout",
     "output_type": "stream",
     "text": [
      "True\n"
     ]
    }
   ],
   "source": [
    "print(issubclass(Developer, Employee))"
   ]
  },
  {
   "cell_type": "code",
   "execution_count": 23,
   "id": "2eacf58c-d0b8-431c-bd7c-77b89c2a7b17",
   "metadata": {},
   "outputs": [
    {
     "name": "stdout",
     "output_type": "stream",
     "text": [
      "True\n"
     ]
    }
   ],
   "source": [
    "print(issubclass(Manager, Employee))"
   ]
  },
  {
   "cell_type": "code",
   "execution_count": 24,
   "id": "eafc15d7-3f77-4463-8564-b834ffd6c655",
   "metadata": {},
   "outputs": [
    {
     "name": "stdout",
     "output_type": "stream",
     "text": [
      "False\n"
     ]
    }
   ],
   "source": [
    "print(issubclass(Developer, Manager))"
   ]
  },
  {
   "cell_type": "code",
   "execution_count": 25,
   "id": "a94c9310-a60c-4b9c-805c-e63fe5cbe217",
   "metadata": {},
   "outputs": [
    {
     "name": "stdout",
     "output_type": "stream",
     "text": [
      "False\n"
     ]
    }
   ],
   "source": [
    "print(issubclass( Manager, Developer))"
   ]
  },
  {
   "cell_type": "code",
   "execution_count": null,
   "id": "d6a14eb4-dbc6-41f5-9aa5-f643592c4935",
   "metadata": {},
   "outputs": [],
   "source": []
  }
 ],
 "metadata": {
  "kernelspec": {
   "display_name": "Python 3",
   "language": "python",
   "name": "python3"
  },
  "language_info": {
   "codemirror_mode": {
    "name": "ipython",
    "version": 3
   },
   "file_extension": ".py",
   "mimetype": "text/x-python",
   "name": "python",
   "nbconvert_exporter": "python",
   "pygments_lexer": "ipython3",
   "version": "3.9.5"
  }
 },
 "nbformat": 4,
 "nbformat_minor": 5
}
