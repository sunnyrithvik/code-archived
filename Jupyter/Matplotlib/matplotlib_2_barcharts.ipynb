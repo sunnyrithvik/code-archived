{
 "cells": [
  {
   "cell_type": "code",
   "execution_count": 4,
   "id": "e95c49a9-71df-4918-b4ef-1c9c04825246",
   "metadata": {},
   "outputs": [],
   "source": [
    "from matplotlib import pyplot as plt\n",
    "import numpy as np\n",
    "import pandas as pd"
   ]
  },
  {
   "cell_type": "code",
   "execution_count": 5,
   "id": "5f6d703b-2258-4274-9ecc-54c2e07add03",
   "metadata": {},
   "outputs": [],
   "source": [
    "plt.style.use(\"fivethirtyeight\")"
   ]
  },
  {
   "cell_type": "code",
   "execution_count": 6,
   "id": "960c263d-5ad3-4eb7-b002-bad9725417ed",
   "metadata": {},
   "outputs": [
    {
     "data": {
      "text/html": [
       "<div>\n",
       "<style scoped>\n",
       "    .dataframe tbody tr th:only-of-type {\n",
       "        vertical-align: middle;\n",
       "    }\n",
       "\n",
       "    .dataframe tbody tr th {\n",
       "        vertical-align: top;\n",
       "    }\n",
       "\n",
       "    .dataframe thead th {\n",
       "        text-align: right;\n",
       "    }\n",
       "</style>\n",
       "<table border=\"1\" class=\"dataframe\">\n",
       "  <thead>\n",
       "    <tr style=\"text-align: right;\">\n",
       "      <th></th>\n",
       "      <th>Responder_id</th>\n",
       "      <th>LanguagesWorkedWith</th>\n",
       "    </tr>\n",
       "  </thead>\n",
       "  <tbody>\n",
       "    <tr>\n",
       "      <th>0</th>\n",
       "      <td>1</td>\n",
       "      <td>HTML/CSS;Java;JavaScript;Python</td>\n",
       "    </tr>\n",
       "    <tr>\n",
       "      <th>1</th>\n",
       "      <td>2</td>\n",
       "      <td>C++;HTML/CSS;Python</td>\n",
       "    </tr>\n",
       "    <tr>\n",
       "      <th>2</th>\n",
       "      <td>3</td>\n",
       "      <td>HTML/CSS</td>\n",
       "    </tr>\n",
       "    <tr>\n",
       "      <th>3</th>\n",
       "      <td>4</td>\n",
       "      <td>C;C++;C#;Python;SQL</td>\n",
       "    </tr>\n",
       "    <tr>\n",
       "      <th>4</th>\n",
       "      <td>5</td>\n",
       "      <td>C++;HTML/CSS;Java;JavaScript;Python;SQL;VBA</td>\n",
       "    </tr>\n",
       "    <tr>\n",
       "      <th>...</th>\n",
       "      <td>...</td>\n",
       "      <td>...</td>\n",
       "    </tr>\n",
       "    <tr>\n",
       "      <th>87564</th>\n",
       "      <td>88182</td>\n",
       "      <td>HTML/CSS;Java;JavaScript</td>\n",
       "    </tr>\n",
       "    <tr>\n",
       "      <th>87565</th>\n",
       "      <td>88212</td>\n",
       "      <td>HTML/CSS;JavaScript;Python</td>\n",
       "    </tr>\n",
       "    <tr>\n",
       "      <th>87566</th>\n",
       "      <td>88282</td>\n",
       "      <td>Bash/Shell/PowerShell;Go;HTML/CSS;JavaScript;W...</td>\n",
       "    </tr>\n",
       "    <tr>\n",
       "      <th>87567</th>\n",
       "      <td>88377</td>\n",
       "      <td>HTML/CSS;JavaScript;Other(s):</td>\n",
       "    </tr>\n",
       "    <tr>\n",
       "      <th>87568</th>\n",
       "      <td>88863</td>\n",
       "      <td>Bash/Shell/PowerShell;HTML/CSS;Java;JavaScript...</td>\n",
       "    </tr>\n",
       "  </tbody>\n",
       "</table>\n",
       "<p>87569 rows × 2 columns</p>\n",
       "</div>"
      ],
      "text/plain": [
       "       Responder_id                                LanguagesWorkedWith\n",
       "0                 1                    HTML/CSS;Java;JavaScript;Python\n",
       "1                 2                                C++;HTML/CSS;Python\n",
       "2                 3                                           HTML/CSS\n",
       "3                 4                                C;C++;C#;Python;SQL\n",
       "4                 5        C++;HTML/CSS;Java;JavaScript;Python;SQL;VBA\n",
       "...             ...                                                ...\n",
       "87564         88182                           HTML/CSS;Java;JavaScript\n",
       "87565         88212                         HTML/CSS;JavaScript;Python\n",
       "87566         88282  Bash/Shell/PowerShell;Go;HTML/CSS;JavaScript;W...\n",
       "87567         88377                      HTML/CSS;JavaScript;Other(s):\n",
       "87568         88863  Bash/Shell/PowerShell;HTML/CSS;Java;JavaScript...\n",
       "\n",
       "[87569 rows x 2 columns]"
      ]
     },
     "execution_count": 6,
     "metadata": {},
     "output_type": "execute_result"
    }
   ],
   "source": [
    "df=pd.read_csv('data.csv')\n",
    "df"
   ]
  },
  {
   "cell_type": "code",
   "execution_count": null,
   "id": "b82d0928-6f28-471d-80ae-50e94d728e0b",
   "metadata": {},
   "outputs": [],
   "source": [
    "ages_x = [25, 26, 27, 28, 29, 30, 31, 32, 33, 34, 35]\n",
    "\n",
    "\n",
    "dev_y = [38496, 42000, 46752, 49320, 53200,\n",
    "         56000, 62316, 64928, 67317, 68748, 73752]\n",
    "\n",
    "py_dev_y = [45372, 48876, 53850, 57287, 63016,\n",
    "            65998, 70003, 70000, 71496, 75370, 83640]\n",
    "\n",
    "js_dev_y = [37810, 43515, 46823, 49293, 53437,\n",
    "            56373, 62375, 66674, 68745, 68746, 74583]\n"
   ]
  },
  {
   "cell_type": "code",
   "execution_count": null,
   "id": "aa54d09b-e112-4fdc-bc24-b4b47d99586e",
   "metadata": {},
   "outputs": [],
   "source": [
    "\n",
    "plt.bar(ages_x , dev_y, color=\"#444444\", label=\"All Devs\")\n",
    "plt.bar(ages_x, py_dev_y, color=\"#008fd5\", label=\"Python\")\n",
    "plt.bar(ages_x , js_dev_y, color=\"#e5ae38\", label=\"JavaScript\")\n",
    "\n",
    "\n",
    "plt.legend()\n",
    "\n",
    "plt.title(\"Median Salary (USD) by Age\")\n",
    "plt.xlabel(\"Ages\")\n",
    "plt.ylabel(\"Median Salary (USD)\")\n",
    "\n",
    "plt.tight_layout()\n",
    "\n",
    "plt.show()\n"
   ]
  },
  {
   "cell_type": "code",
   "execution_count": null,
   "id": "6ee71b31-fbe0-41e7-a6a0-9a756ea73e65",
   "metadata": {},
   "outputs": [],
   "source": [
    "\n",
    "x_indexes = np.arange(len(ages_x))\n",
    "\n",
    "plt.bar(x_indexes , dev_y, color=\"#444444\", label=\"All Devs\")\n",
    "plt.bar(x_indexes, py_dev_y, color=\"#008fd5\", label=\"Python\")\n",
    "plt.bar(x_indexes , js_dev_y, color=\"#e5ae38\", label=\"JavaScript\")\n",
    "\n",
    "\n",
    "plt.legend()\n",
    "\n",
    "plt.title(\"Median Salary (USD) by Age\")\n",
    "plt.xlabel(\"Ages\")\n",
    "plt.ylabel(\"Median Salary (USD)\")\n",
    "\n",
    "plt.tight_layout()\n",
    "\n",
    "plt.show()\n"
   ]
  },
  {
   "cell_type": "code",
   "execution_count": null,
   "id": "bc754f10-b926-4e3b-abc3-087bd11e16e3",
   "metadata": {},
   "outputs": [],
   "source": [
    "\n",
    "x_indexes = np.arange(len(ages_x))\n",
    "width = 0.25\n",
    "\n",
    "plt.bar(x_indexes - width, dev_y, color=\"#444444\", label=\"All Devs\")\n",
    "plt.bar(x_indexes, py_dev_y, color=\"#008fd5\", label=\"Python\")\n",
    "plt.bar(x_indexes + width, js_dev_y, color=\"#e5ae38\", label=\"JavaScript\")\n",
    "\n",
    "\n",
    "plt.legend()\n",
    "\n",
    "plt.title(\"Median Salary (USD) by Age\")\n",
    "plt.xlabel(\"Ages\")\n",
    "plt.ylabel(\"Median Salary (USD)\")\n",
    "\n",
    "plt.tight_layout()\n",
    "\n",
    "plt.show()\n"
   ]
  },
  {
   "cell_type": "code",
   "execution_count": null,
   "id": "3b81dd88-faf0-4ec1-a8d2-e49bdac465d2",
   "metadata": {},
   "outputs": [],
   "source": [
    "\n",
    "x_indexes = np.arange(len(ages_x))\n",
    "width = 0.25\n",
    "\n",
    "plt.bar(x_indexes - width, dev_y,width=width, color=\"#444444\", label=\"All Devs\")\n",
    "plt.bar(x_indexes, py_dev_y,width=width, color=\"#008fd5\", label=\"Python\")\n",
    "plt.bar(x_indexes + width, js_dev_y,width=width, color=\"#e5ae38\", label=\"JavaScript\")\n",
    "\n",
    "\n",
    "plt.legend()\n",
    "\n",
    "plt.title(\"Median Salary (USD) by Age\")\n",
    "plt.xlabel(\"Ages\")\n",
    "plt.ylabel(\"Median Salary (USD)\")\n",
    "\n",
    "plt.tight_layout()\n",
    "\n",
    "plt.show()\n"
   ]
  },
  {
   "cell_type": "code",
   "execution_count": null,
   "id": "342442dc-e627-43d8-ad09-708a8935aa95",
   "metadata": {},
   "outputs": [],
   "source": [
    "\n",
    "x_indexes = np.arange(len(ages_x))\n",
    "width = 0.25\n",
    "\n",
    "plt.bar(x_indexes - width, dev_y,width=width, color=\"#444444\", label=\"All Devs\")\n",
    "plt.bar(x_indexes, py_dev_y,width=width, color=\"#008fd5\", label=\"Python\")\n",
    "plt.bar(x_indexes + width, js_dev_y,width=width, color=\"#e5ae38\", label=\"JavaScript\")\n",
    "\n",
    "\n",
    "plt.legend()\n",
    "\n",
    "plt.xticks(ticks=x_indexes, labels=ages_x)\n",
    "\n",
    "plt.title(\"Median Salary (USD) by Age\")\n",
    "plt.xlabel(\"Ages\")\n",
    "plt.ylabel(\"Median Salary (USD)\")\n",
    "\n",
    "plt.tight_layout()\n",
    "\n",
    "plt.show()\n"
   ]
  },
  {
   "cell_type": "code",
   "execution_count": null,
   "id": "ff872f5c-30a0-40ec-8105-dc50ea362fad",
   "metadata": {},
   "outputs": [],
   "source": [
    "import csv\n",
    "from collections import Counter"
   ]
  },
  {
   "cell_type": "code",
   "execution_count": null,
   "id": "2a103cb0-dba3-4754-8adc-fd13db9113d8",
   "metadata": {},
   "outputs": [],
   "source": [
    "with open('data.csv') as csv_file:\n",
    "    csv_reader = csv.DictReader(csv_file)\n",
    "    \n",
    "    language_counter = Counter()\n",
    "    \n",
    "    row = next(csv_reader)\n",
    "    print(row)\n",
    "    print(row['LanguagesWorkedWith'].split(';'))\n",
    "    \n",
    "    for row in csv_reader:\n",
    "        language_counter.update(row['LanguagesWorkedWith'].split(';'))"
   ]
  },
  {
   "cell_type": "code",
   "execution_count": null,
   "id": "42fa9866-4503-4a6f-9980-26338471bdbf",
   "metadata": {},
   "outputs": [],
   "source": [
    "# here 1 item less is printed for js, html ,python and java\n",
    "# as it is used above\n",
    "print(language_counter)"
   ]
  },
  {
   "cell_type": "code",
   "execution_count": null,
   "id": "8fde0aee-b386-4270-ad52-e52faebcafd2",
   "metadata": {},
   "outputs": [],
   "source": [
    "print(language_counter.most_common(15))"
   ]
  },
  {
   "cell_type": "code",
   "execution_count": null,
   "id": "54b6891a-2e6b-4131-b65c-f1444adad806",
   "metadata": {},
   "outputs": [],
   "source": [
    "languages = []\n",
    "\n",
    "popularity = []\n",
    "\n",
    "for item in language_counter.most_common(15):\n",
    "    languages.append(item[0])\n",
    "    popularity.append(item[1])\n",
    "    \n",
    "print(languages)\n",
    "print(popularity)"
   ]
  },
  {
   "cell_type": "code",
   "execution_count": null,
   "id": "c9306b40-aaf3-497e-94cd-bb43821d305f",
   "metadata": {},
   "outputs": [],
   "source": [
    "plt.bar(languages, popularity)\n",
    "\n",
    "plt.title(\"most popular languages\")\n",
    "plt.xlabel(\"programming languages\")\n",
    "plt.ylabel(\"num of people use\")\n",
    "\n",
    "plt.tight_layout()\n",
    "\n",
    "plt.show()"
   ]
  },
  {
   "cell_type": "code",
   "execution_count": null,
   "id": "f0cf107d-4957-4808-9ef3-06bb47af23cb",
   "metadata": {},
   "outputs": [],
   "source": [
    "plt.barh(languages, popularity)\n",
    "\n",
    "plt.title(\"most popular languages\")\n",
    "plt.ylabel(\"programming languages\")\n",
    "plt.xlabel(\"num of people use\")\n",
    "\n",
    "plt.tight_layout()\n",
    "\n",
    "plt.show()"
   ]
  },
  {
   "cell_type": "code",
   "execution_count": null,
   "id": "0feaea61-bf3f-455b-9703-d9688c1048a9",
   "metadata": {},
   "outputs": [],
   "source": [
    "languages.reverse()\n",
    "popularity.reverse()\n",
    "\n",
    "plt.barh(languages, popularity)\n",
    "\n",
    "plt.title(\"most popular languages\")\n",
    "plt.ylabel(\"programming languages\")\n",
    "plt.xlabel(\"num of people use\")\n",
    "\n",
    "plt.tight_layout()\n",
    "\n",
    "plt.show()"
   ]
  },
  {
   "cell_type": "code",
   "execution_count": null,
   "id": "f9709884-e484-4c77-b509-f7a49813f3ab",
   "metadata": {},
   "outputs": [],
   "source": [
    "import pandas as pd"
   ]
  },
  {
   "cell_type": "code",
   "execution_count": null,
   "id": "fc6758a3-09a7-40b8-af9b-183245ea04b4",
   "metadata": {},
   "outputs": [],
   "source": [
    "# using pandas data csv\n",
    "data = pd.read_csv('data.csv')\n",
    "ids = data['Responder_id']\n",
    "lang_responses = data['LanguagesWorkedWith']\n",
    "\n",
    "language_counter = Counter()\n",
    "\n",
    "for response in lang_responses:\n",
    "        language_counter.update(response.split(';'))\n",
    "        \n",
    "languages = []\n",
    "\n",
    "popularity = []\n",
    "\n",
    "for item in language_counter.most_common(15):\n",
    "    languages.append(item[0])\n",
    "    popularity.append(item[1])\n",
    "    \n",
    "languages.reverse()\n",
    "popularity.reverse()\n",
    "\n",
    "plt.barh(languages, popularity)\n",
    "\n",
    "plt.title(\"most popular languages\")\n",
    "plt.ylabel(\"programming languages\")\n",
    "plt.xlabel(\"num of people use\")\n",
    "\n",
    "plt.tight_layout()\n",
    "\n",
    "plt.show()"
   ]
  },
  {
   "cell_type": "code",
   "execution_count": null,
   "id": "e14739a9-ba51-495c-8787-e0d9c641f363",
   "metadata": {},
   "outputs": [],
   "source": []
  }
 ],
 "metadata": {
  "kernelspec": {
   "display_name": "Python 3",
   "language": "python",
   "name": "python3"
  },
  "language_info": {
   "codemirror_mode": {
    "name": "ipython",
    "version": 3
   },
   "file_extension": ".py",
   "mimetype": "text/x-python",
   "name": "python",
   "nbconvert_exporter": "python",
   "pygments_lexer": "ipython3",
   "version": "3.9.5"
  }
 },
 "nbformat": 4,
 "nbformat_minor": 5
}
