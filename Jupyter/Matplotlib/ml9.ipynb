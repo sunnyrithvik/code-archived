{
 "cells": [
  {
   "cell_type": "code",
   "execution_count": 1,
   "id": "95cb6945-8cbe-418b-b9fc-93ed2921351f",
   "metadata": {},
   "outputs": [],
   "source": [
    "import random\n",
    "from itertools import count\n",
    "import pandas as pd\n",
    "import matplotlib.pyplot as plt\n",
    "from matplotlib.animation import FuncAnimation\n",
    "import numpy as np\n",
    "\n",
    "plt.style.use('fivethirtyeight')"
   ]
  },
  {
   "cell_type": "code",
   "execution_count": 2,
   "id": "ce7a26e5-b5a3-48ab-b788-19edc892e82b",
   "metadata": {},
   "outputs": [],
   "source": [
    "# x_vals = [0, 1, 2, 3, 4, 5]\n",
    "# y_vals = [0, 1, 3, 2, 3, 5]\n",
    "\n",
    "# plt.plot(x_vals, y_vals)\n",
    "\n",
    "# # index = count()\n",
    "\n",
    "# # def animate(i):\n",
    "# #     x_vals.append(next(index))\n",
    "# #     y_vals.append(random.randint(0, 5))\n",
    "\n",
    "\n",
    "# plt.tight_layout()\n",
    "# plt.show()\n",
    "\n",
    "\n",
    "# # data = pd.read_csv('data.csv')\n",
    "# # x = data['x_value']\n",
    "# # y1 = data['total_1']\n",
    "# # y2 = data['total_2']"
   ]
  },
  {
   "cell_type": "code",
   "execution_count": 3,
   "id": "48a022ab-0d1b-469e-a430-ae6dab51e052",
   "metadata": {},
   "outputs": [
    {
     "data": {
      "text/plain": [
       "<Figure size 432x288 with 0 Axes>"
      ]
     },
     "metadata": {},
     "output_type": "display_data"
    }
   ],
   "source": [
    "x_vals = []\n",
    "y_vals = []\n",
    "\n",
    "index = count()\n",
    "\n",
    "def animate(i):\n",
    "    x_vals.append(next(index))\n",
    "    y_vals.append(random.randint(0, 5))\n",
    "    \n",
    "    plt.cla()\n",
    "    plt.plot(x_vals,y_vals)\n",
    "    \n",
    "ani = FuncAnimation(plt.gcf(),animate, interval= 1000)\n",
    "\n",
    "\n",
    "plt.tight_layout()\n",
    "plt.show()\n",
    "\n",
    "\n",
    "# data = pd.read_csv('data.csv')\n",
    "# x = data['x_value']\n",
    "# y1 = data['total_1']\n",
    "# y2 = data['total_2']"
   ]
  },
  {
   "cell_type": "code",
   "execution_count": null,
   "id": "8a4844ae-077f-415a-aeda-2cd936723c1e",
   "metadata": {},
   "outputs": [],
   "source": []
  }
 ],
 "metadata": {
  "kernelspec": {
   "display_name": "Python 3",
   "language": "python",
   "name": "python3"
  },
  "language_info": {
   "codemirror_mode": {
    "name": "ipython",
    "version": 3
   },
   "file_extension": ".py",
   "mimetype": "text/x-python",
   "name": "python",
   "nbconvert_exporter": "python",
   "pygments_lexer": "ipython3",
   "version": "3.9.5"
  }
 },
 "nbformat": 4,
 "nbformat_minor": 5
}
