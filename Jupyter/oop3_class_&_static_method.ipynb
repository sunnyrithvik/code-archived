{
 "cells": [
  {
   "cell_type": "code",
   "execution_count": 1,
   "id": "6d03aab9-abb0-4eac-8b33-14357a4d1543",
   "metadata": {},
   "outputs": [],
   "source": [
    "class Employee:\n",
    "    \n",
    "    num_of_emp = 0\n",
    "    raise_amount = 1.04\n",
    "    \n",
    "    def __init__(self, first, last, pay):\n",
    "        self.first = first\n",
    "        self.last = last\n",
    "        self.pay = pay\n",
    "        self.email = first + '.' + last + '@company.com'\n",
    "        \n",
    "        Employee.num_of_emp += 1\n",
    "        \n",
    "    # Regular method in class\n",
    "    # Automatically take the instance as the first argument\n",
    "    \n",
    "    def fullname(self):\n",
    "        return f'{self.first} {self.last}'\n",
    "    \n",
    "    def apply_raise(self):\n",
    "        self.pay = int(self.pay * self.raise_amount)\n",
    "        \n",
    "    # Class Method\n",
    "    @classmethod\n",
    "    def set_raise_amount(cls, amount):\n",
    "        cls.raise_amount = amount\n",
    "        \n",
    "    # Class Method as an alternative constructor\n",
    "    @classmethod\n",
    "    def from_string(cls, emp_str):\n",
    "        first, last, pay = emp_str.split('-')\n",
    "        return cls(first, last, pay)\n",
    "    \n",
    "    # Static Method\n",
    "    @staticmethod\n",
    "    def is_workday(day):\n",
    "        if day.weekday() == 5 or day.weekday() == 6:\n",
    "            return False\n",
    "        return True"
   ]
  },
  {
   "cell_type": "code",
   "execution_count": 2,
   "id": "6fa2794c-9012-4239-a64d-6d7b07646bc0",
   "metadata": {},
   "outputs": [],
   "source": [
    "emp_1 = Employee('corey','schafer',50000)\n",
    "emp_2 = Employee('Test','user',60000)"
   ]
  },
  {
   "cell_type": "code",
   "execution_count": 3,
   "id": "7a076398-c862-4b08-8f12-93b36fd52a8d",
   "metadata": {},
   "outputs": [],
   "source": [
    "Employee.set_raise_amount(1.05)"
   ]
  },
  {
   "cell_type": "code",
   "execution_count": 4,
   "id": "22ba4a9c-bffc-45e5-b324-bf14fbd06ed8",
   "metadata": {},
   "outputs": [
    {
     "name": "stdout",
     "output_type": "stream",
     "text": [
      "1.05\n",
      "1.05\n"
     ]
    }
   ],
   "source": [
    "print(emp_1.raise_amount)\n",
    "print(Employee.raise_amount)"
   ]
  },
  {
   "cell_type": "code",
   "execution_count": 5,
   "id": "ce217c87-b56e-4f47-a628-17aee5bc469d",
   "metadata": {},
   "outputs": [],
   "source": [
    "emp_1.set_raise_amount(1.06)"
   ]
  },
  {
   "cell_type": "code",
   "execution_count": 6,
   "id": "815eca18-430c-4d5f-ad24-1612cd5cd6fb",
   "metadata": {},
   "outputs": [
    {
     "name": "stdout",
     "output_type": "stream",
     "text": [
      "1.06\n",
      "1.06\n"
     ]
    }
   ],
   "source": [
    "print(emp_1.raise_amount)\n",
    "print(Employee.raise_amount)"
   ]
  },
  {
   "cell_type": "code",
   "execution_count": 7,
   "id": "256c675c-fbea-49bd-af20-1d8aa286a778",
   "metadata": {},
   "outputs": [],
   "source": [
    "# Class Methods as alternative Constructors\n",
    "\n",
    "emp_str_1 = 'John-Doe-70000'\n",
    "emp_str_2 = 'Steve-Smith-30000'\n",
    "emp_str_3 = 'Jane-Doe-90000'\n",
    "\n",
    "# first, last, pay = emp_str_1.split('-')\n",
    "\n",
    "# new_emp_1 = Employee(first, last, pay)\n",
    "\n",
    "new_emp_1 = Employee.from_string(emp_str_1)\n"
   ]
  },
  {
   "cell_type": "code",
   "execution_count": 8,
   "id": "f57f3ca5-bfcb-450c-9222-dda814e3c58b",
   "metadata": {},
   "outputs": [
    {
     "name": "stdout",
     "output_type": "stream",
     "text": [
      "John.Doe@company.com\n",
      "70000\n"
     ]
    }
   ],
   "source": [
    "print(new_emp_1.email)\n",
    "print(new_emp_1.pay)"
   ]
  },
  {
   "cell_type": "code",
   "execution_count": 9,
   "id": "29b00605-b31b-4e8f-b900-260799993001",
   "metadata": {},
   "outputs": [
    {
     "name": "stdout",
     "output_type": "stream",
     "text": [
      "True\n"
     ]
    }
   ],
   "source": [
    "# Static Methods do not pass anything automatically\n",
    "# i.e. neither instance nor class\n",
    "\n",
    "import datetime\n",
    "my_date = datetime.date(2021, 5, 27)\n",
    "\n",
    "print(Employee.is_workday(my_date))"
   ]
  }
 ],
 "metadata": {
  "kernelspec": {
   "display_name": "Python 3",
   "language": "python",
   "name": "python3"
  },
  "language_info": {
   "codemirror_mode": {
    "name": "ipython",
    "version": 3
   },
   "file_extension": ".py",
   "mimetype": "text/x-python",
   "name": "python",
   "nbconvert_exporter": "python",
   "pygments_lexer": "ipython3",
   "version": "3.9.5"
  }
 },
 "nbformat": 4,
 "nbformat_minor": 5
}
