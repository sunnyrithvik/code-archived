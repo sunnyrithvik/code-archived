{
 "cells": [
  {
   "cell_type": "code",
   "execution_count": 1,
   "id": "7a89f6d9-0d18-4c48-a6cd-0ecb661fd48c",
   "metadata": {},
   "outputs": [],
   "source": [
    "# Special Methods are always surrounded by dunder (double underscore)\n"
   ]
  },
  {
   "cell_type": "code",
   "execution_count": 2,
   "id": "c3426a6b-3f39-46e7-9740-64ab63be1144",
   "metadata": {},
   "outputs": [],
   "source": [
    "class Employee:\n",
    "    \n",
    "    raise_amount = 1.04\n",
    "    \n",
    "    def __init__(self, first, last, pay):\n",
    "        self.first = first\n",
    "        self.last = last\n",
    "        self.pay = pay\n",
    "        self.email = first + '.' + last + '@company.com'\n",
    "        \n",
    "    def fullname(self):\n",
    "        return f'{self.first} {self.last}'\n",
    "    \n",
    "    def apply_raise(self):\n",
    "        self.pay = int(self.pay * self.raise_amount)\n",
    "    \n",
    "    # Unambiguous representation of the object\n",
    "    # Used for debugging, logging\n",
    "    def __repr__(self):\n",
    "        return \"Employee('{}', '{}', {})\".format(self.first, self.last, self.pay)\n",
    "    \n",
    "    # Readable representation of the object\n",
    "    # Used as a display to the end user\n",
    "    def __str__(self):\n",
    "        return '{} - {}'.format(self.fullname(), self.email)\n",
    "    \n",
    "    def __add__(self, other):\n",
    "        return self.pay + other.pay\n",
    "    \n",
    "    def __len__(self):\n",
    "        return len(self.fullname())"
   ]
  },
  {
   "cell_type": "code",
   "execution_count": 3,
   "id": "fcad5d03-a071-40eb-b63b-51b363d34211",
   "metadata": {},
   "outputs": [],
   "source": [
    "emp_1 = Employee('corey','schafer',50000)\n",
    "emp_2 = Employee('Test','user',60000)"
   ]
  },
  {
   "cell_type": "code",
   "execution_count": 4,
   "id": "fe0e3a9b-a231-4c74-8f4f-68117403403d",
   "metadata": {},
   "outputs": [
    {
     "name": "stdout",
     "output_type": "stream",
     "text": [
      "corey schafer - corey.schafer@company.com\n"
     ]
    }
   ],
   "source": [
    "print(emp_1)"
   ]
  },
  {
   "cell_type": "code",
   "execution_count": 5,
   "id": "eecf4a67-894b-47d4-98a0-dd162b1d6725",
   "metadata": {},
   "outputs": [
    {
     "name": "stdout",
     "output_type": "stream",
     "text": [
      "Employee('corey', 'schafer', 50000)\n",
      "corey schafer - corey.schafer@company.com\n"
     ]
    }
   ],
   "source": [
    "print(repr(emp_1))\n",
    "print(str(emp_1))"
   ]
  },
  {
   "cell_type": "code",
   "execution_count": 6,
   "id": "e9e85604-f94c-4a46-b452-06842241bddd",
   "metadata": {},
   "outputs": [
    {
     "name": "stdout",
     "output_type": "stream",
     "text": [
      "Employee('corey', 'schafer', 50000)\n",
      "corey schafer - corey.schafer@company.com\n"
     ]
    }
   ],
   "source": [
    "print(emp_1.__repr__())\n",
    "print(emp_1.__str__())"
   ]
  },
  {
   "cell_type": "code",
   "execution_count": 7,
   "id": "fa44b822-3dc3-4310-ad25-505afe482bf6",
   "metadata": {},
   "outputs": [
    {
     "name": "stdout",
     "output_type": "stream",
     "text": [
      "3\n",
      "ab\n"
     ]
    }
   ],
   "source": [
    "print(1+2)\n",
    "print('a'+'b')"
   ]
  },
  {
   "cell_type": "code",
   "execution_count": 8,
   "id": "8f18df58-c751-49e1-b96b-a49565257c4f",
   "metadata": {},
   "outputs": [
    {
     "name": "stdout",
     "output_type": "stream",
     "text": [
      "3\n",
      "ab\n"
     ]
    }
   ],
   "source": [
    "print(int.__add__(1,2))\n",
    "print(str.__add__('a','b'))"
   ]
  },
  {
   "cell_type": "code",
   "execution_count": 9,
   "id": "e91bc3d0-4642-4098-a90c-14eb2ee95719",
   "metadata": {},
   "outputs": [
    {
     "name": "stdout",
     "output_type": "stream",
     "text": [
      "110000\n"
     ]
    }
   ],
   "source": [
    "print(emp_1 + emp_2)"
   ]
  },
  {
   "cell_type": "code",
   "execution_count": 10,
   "id": "0dd4267d-17bd-4b4a-9842-dbe46dcaa2fc",
   "metadata": {},
   "outputs": [
    {
     "name": "stdout",
     "output_type": "stream",
     "text": [
      "13\n"
     ]
    }
   ],
   "source": [
    "print(len(emp_1))"
   ]
  },
  {
   "cell_type": "code",
   "execution_count": null,
   "id": "9b3e529c-5a9e-47e6-9944-627a78339e6e",
   "metadata": {},
   "outputs": [],
   "source": []
  }
 ],
 "metadata": {
  "kernelspec": {
   "display_name": "Python 3",
   "language": "python",
   "name": "python3"
  },
  "language_info": {
   "codemirror_mode": {
    "name": "ipython",
    "version": 3
   },
   "file_extension": ".py",
   "mimetype": "text/x-python",
   "name": "python",
   "nbconvert_exporter": "python",
   "pygments_lexer": "ipython3",
   "version": "3.9.5"
  }
 },
 "nbformat": 4,
 "nbformat_minor": 5
}
