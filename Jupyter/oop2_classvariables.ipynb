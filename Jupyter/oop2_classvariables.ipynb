{
 "cells": [
  {
   "cell_type": "code",
   "execution_count": 1,
   "id": "6946de2f-64ae-43fb-a4fc-3a174362f15e",
   "metadata": {},
   "outputs": [],
   "source": [
    "class Employee:\n",
    "    \n",
    "    num_of_emp = 0\n",
    "    raise_amount = 1.04\n",
    "    \n",
    "    def __init__(self, first, last, pay):\n",
    "        self.first = first\n",
    "        self.last = last\n",
    "        self.pay = pay\n",
    "        self.email = first + '.' + last + '@company.com'\n",
    "        \n",
    "        Employee.num_of_emp += 1\n",
    "        \n",
    "    def fullname(self):\n",
    "        return f'{self.first} {self.last}'\n",
    "    \n",
    "    def apply_raise(self):\n",
    "        self.pay = int(self.pay * self.raise_amount)"
   ]
  },
  {
   "cell_type": "code",
   "execution_count": 2,
   "id": "6d057921-3db6-4a37-89a0-0be094f5f4a7",
   "metadata": {},
   "outputs": [
    {
     "name": "stdout",
     "output_type": "stream",
     "text": [
      "0\n"
     ]
    }
   ],
   "source": [
    "print(Employee.num_of_emp)\n",
    "\n",
    "emp_1 = Employee('corey','schafer',50000)\n",
    "emp_2 = Employee('Test','user',60000)"
   ]
  },
  {
   "cell_type": "code",
   "execution_count": 3,
   "id": "97f5cd09-1181-44a9-b83c-02e4291f88ef",
   "metadata": {},
   "outputs": [
    {
     "name": "stdout",
     "output_type": "stream",
     "text": [
      "2\n"
     ]
    }
   ],
   "source": [
    "print(Employee.num_of_emp)"
   ]
  },
  {
   "cell_type": "code",
   "execution_count": 4,
   "id": "708749e3-5dea-4491-9934-f245e960b589",
   "metadata": {},
   "outputs": [
    {
     "name": "stdout",
     "output_type": "stream",
     "text": [
      "50000\n",
      "52000\n"
     ]
    }
   ],
   "source": [
    "print(emp_1.pay)\n",
    "emp_1.apply_raise()\n",
    "print(emp_1.pay)"
   ]
  },
  {
   "cell_type": "code",
   "execution_count": 5,
   "id": "1537bf0a-a5bf-4d3e-a8a6-b1d94bef6457",
   "metadata": {},
   "outputs": [
    {
     "name": "stdout",
     "output_type": "stream",
     "text": [
      "{'first': 'corey', 'last': 'schafer', 'pay': 52000, 'email': 'corey.schafer@company.com'}\n"
     ]
    }
   ],
   "source": [
    "print(emp_1.__dict__)"
   ]
  },
  {
   "cell_type": "code",
   "execution_count": 6,
   "id": "1fae0557-72a9-4705-8257-b258503286ba",
   "metadata": {},
   "outputs": [
    {
     "name": "stdout",
     "output_type": "stream",
     "text": [
      "{'__module__': '__main__', 'num_of_emp': 2, 'raise_amount': 1.04, '__init__': <function Employee.__init__ at 0x000002D2080584C0>, 'fullname': <function Employee.fullname at 0x000002D208058790>, 'apply_raise': <function Employee.apply_raise at 0x000002D208058280>, '__dict__': <attribute '__dict__' of 'Employee' objects>, '__weakref__': <attribute '__weakref__' of 'Employee' objects>, '__doc__': None}\n"
     ]
    }
   ],
   "source": [
    "print(Employee.__dict__)"
   ]
  },
  {
   "cell_type": "code",
   "execution_count": 7,
   "id": "53d74cdc-2bc5-45f8-b8b5-dd890c53b0b9",
   "metadata": {},
   "outputs": [],
   "source": [
    "Employee.raise_amount = 1.05\n",
    "emp_1.raise_amount =1.06"
   ]
  },
  {
   "cell_type": "code",
   "execution_count": 8,
   "id": "279a82c5-61b6-4b86-90ed-0a31580c72ef",
   "metadata": {},
   "outputs": [
    {
     "name": "stdout",
     "output_type": "stream",
     "text": [
      "{'first': 'corey', 'last': 'schafer', 'pay': 52000, 'email': 'corey.schafer@company.com', 'raise_amount': 1.06}\n"
     ]
    }
   ],
   "source": [
    "print(emp_1.__dict__)"
   ]
  },
  {
   "cell_type": "code",
   "execution_count": 9,
   "id": "9f897cf6-1188-45f7-a1de-1bd1f5203ed5",
   "metadata": {},
   "outputs": [
    {
     "name": "stdout",
     "output_type": "stream",
     "text": [
      "1.06\n",
      "1.05\n"
     ]
    }
   ],
   "source": [
    "print(emp_1.raise_amount)\n",
    "print(Employee.raise_amount)"
   ]
  },
  {
   "cell_type": "code",
   "execution_count": null,
   "id": "9fdbfc60-c96f-4e92-8b0a-a0b6e5c7f10a",
   "metadata": {},
   "outputs": [],
   "source": []
  }
 ],
 "metadata": {
  "kernelspec": {
   "display_name": "Python 3",
   "language": "python",
   "name": "python3"
  },
  "language_info": {
   "codemirror_mode": {
    "name": "ipython",
    "version": 3
   },
   "file_extension": ".py",
   "mimetype": "text/x-python",
   "name": "python",
   "nbconvert_exporter": "python",
   "pygments_lexer": "ipython3",
   "version": "3.9.5"
  }
 },
 "nbformat": 4,
 "nbformat_minor": 5
}
